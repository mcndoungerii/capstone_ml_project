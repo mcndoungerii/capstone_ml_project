{
 "cells": [
  {
   "metadata": {},
   "cell_type": "markdown",
   "source": "# Preprocessing and Training any of the 4 models in the Homework",
   "id": "54c3c9877ea4e6fc"
  },
  {
   "metadata": {},
   "cell_type": "markdown",
   "source": "<h1> 1. Clustering Model - KMeans </h1>",
   "id": "894c3fb70aeb94a9"
  },
  {
   "metadata": {
    "ExecuteTime": {
     "end_time": "2024-07-11T17:24:31.401707Z",
     "start_time": "2024-07-11T17:24:31.392449Z"
    }
   },
   "cell_type": "code",
   "source": [
    "import sys\n",
    "from pathlib import Path\n",
    "import matplotlib.pyplot as plt\n",
    "from sklearn.cluster import KMeans, MiniBatchKMeans\n",
    "from sklearn.model_selection import train_test_split\n",
    "import streamlit as st"
   ],
   "id": "initial_id",
   "outputs": [],
   "execution_count": 57
  },
  {
   "metadata": {},
   "cell_type": "markdown",
   "source": "### Get the absolute path of the current file",
   "id": "e92e54121eff022b"
  },
  {
   "metadata": {
    "ExecuteTime": {
     "end_time": "2024-07-11T17:24:31.421141Z",
     "start_time": "2024-07-11T17:24:31.417837Z"
    }
   },
   "cell_type": "code",
   "source": [
    "# Get the absolute path of the current file\n",
    "current_file_path = Path('./cluster_k_means.ipynb').resolve()\n",
    "\n",
    "# Get the directory of the current file\n",
    "project_dir = current_file_path.parent\n",
    "\n",
    "# Add the project directory to sys.path\n",
    "sys.path.insert(0, str(project_dir))\n",
    "from data.input_data_1 import DatasetCreator"
   ],
   "id": "d4024dc43b43b383",
   "outputs": [],
   "execution_count": 58
  },
  {
   "metadata": {},
   "cell_type": "markdown",
   "source": "### Step 1: Create Datasets",
   "id": "d90f4534ca5f007b"
  },
  {
   "metadata": {
    "ExecuteTime": {
     "end_time": "2024-07-11T17:24:31.462205Z",
     "start_time": "2024-07-11T17:24:31.428427Z"
    }
   },
   "cell_type": "code",
   "source": [
    "dataset_creator = DatasetCreator()\n",
    "blob_dataset = dataset_creator.create_blob_dataset()\n",
    "points_dataset = dataset_creator.create_points_dataset()\n",
    "X_blob, y_blob = blob_dataset['X'], blob_dataset['y']\n",
    "X_points = points_dataset['X']"
   ],
   "id": "68440498c4a79d52",
   "outputs": [],
   "execution_count": 59
  },
  {
   "metadata": {},
   "cell_type": "markdown",
   "source": "### Preprocesing: No need to split into train and test as clustering doesn't require labeled data",
   "id": "84efb876829a635a"
  },
  {
   "metadata": {},
   "cell_type": "markdown",
   "source": "### Step 2: Train the model using the Blob dataset",
   "id": "eba06bf46fea0f00"
  },
  {
   "metadata": {},
   "cell_type": "markdown",
   "source": "### (a): Create and Fit KMeans and MiniBatchKMeans models for make_blob dataset",
   "id": "4a38e74acaebfdc"
  },
  {
   "cell_type": "code",
   "id": "a5225e7524cc7cce",
   "metadata": {
    "ExecuteTime": {
     "end_time": "2024-07-11T17:24:31.479354Z",
     "start_time": "2024-07-11T17:24:31.463660Z"
    }
   },
   "source": [
    "kmeans = KMeans(n_clusters=3, random_state=42, n_init='auto')\n",
    "kmeans= kmeans.fit(X_blob,y_blob)\n"
   ],
   "outputs": [],
   "execution_count": 60
  },
  {
   "metadata": {
    "ExecuteTime": {
     "end_time": "2024-07-11T17:24:31.500812Z",
     "start_time": "2024-07-11T17:24:31.480648Z"
    }
   },
   "cell_type": "code",
   "source": [
    "minibatch_kmeans = MiniBatchKMeans(n_clusters=3, random_state=42, batch_size=100,n_init='auto')\n",
    "minibatch_kmeans = minibatch_kmeans.fit(X_blob)"
   ],
   "id": "ad59107e1cb21f3b",
   "outputs": [],
   "execution_count": 61
  },
  {
   "metadata": {},
   "cell_type": "markdown",
   "source": "### (b) Make predictions with blob dataset",
   "id": "9a8e650c0708fd9"
  },
  {
   "metadata": {
    "ExecuteTime": {
     "end_time": "2024-07-11T17:24:31.511464Z",
     "start_time": "2024-07-11T17:24:31.502942Z"
    }
   },
   "cell_type": "code",
   "source": [
    "kmeans_labels = kmeans.predict(X_blob)\n",
    "\n",
    "minibatch_kmeans_labels = minibatch_kmeans.predict(X_blob)"
   ],
   "id": "84039eeab96e3a7b",
   "outputs": [],
   "execution_count": 62
  },
  {
   "metadata": {},
   "cell_type": "markdown",
   "source": "### Step 3: Train the model using (Points Dataset)",
   "id": "71cfc4d8bc56c451"
  },
  {
   "metadata": {},
   "cell_type": "markdown",
   "source": "### (a): Create and Fit KMeans and MiniBatchKMeans models on points dataset",
   "id": "b70116efff8f0277"
  },
  {
   "metadata": {
    "ExecuteTime": {
     "end_time": "2024-07-11T17:24:31.569133Z",
     "start_time": "2024-07-11T17:24:31.512290Z"
    }
   },
   "cell_type": "code",
   "source": [
    "kmeans_points = KMeans(n_clusters=3, random_state=42,n_init='auto')\n",
    "kmeans_points = kmeans_points.fit(X_points)\n",
    "\n",
    "minibatch_kmeans_points = MiniBatchKMeans(n_clusters=3, random_state=42, batch_size=100,n_init='auto')\n",
    "minibatch_kmeans_points = minibatch_kmeans_points.fit(X_points)"
   ],
   "id": "c091b4bafef78e30",
   "outputs": [],
   "execution_count": 63
  },
  {
   "metadata": {},
   "cell_type": "markdown",
   "source": "### (b) Make predictions using the points data set",
   "id": "e1a8fe3488659bfe"
  },
  {
   "metadata": {
    "ExecuteTime": {
     "end_time": "2024-07-11T17:24:31.578893Z",
     "start_time": "2024-07-11T17:24:31.569918Z"
    }
   },
   "cell_type": "code",
   "source": [
    "kmeans_points_labels = kmeans_points.predict(X_points)\n",
    "\n",
    "minibatch_kmeans_points_labels = minibatch_kmeans_points.predict(X_points)"
   ],
   "id": "966068b097fb571f",
   "outputs": [],
   "execution_count": 64
  },
  {
   "metadata": {},
   "cell_type": "markdown",
   "source": "### To create several alternative models by changing parameters like the number of clusters and distance metrics, and to visualize the cluster centers, you can extend the starter code. Below, I've added additional models with varying parameters and included the visualization of cluster centers.\n",
   "id": "dc6484b3d0a564a8"
  },
  {
   "metadata": {},
   "cell_type": "markdown",
   "source": "### Step 1: Create and Fit KMeans and MiniBatchKMeans models with different parameters",
   "id": "a1926b109c7d76b6"
  },
  {
   "metadata": {
    "ExecuteTime": {
     "end_time": "2024-07-11T17:24:31.582642Z",
     "start_time": "2024-07-11T17:24:31.579653Z"
    }
   },
   "cell_type": "code",
   "source": [
    "\n",
    "models = {\n",
    "    'KMeans_3_clusters': KMeans(n_clusters=3, random_state=42,n_init='auto'),\n",
    "    'KMeans_4_clusters': KMeans(n_clusters=4, random_state=42,n_init='auto'),\n",
    "    'KMeans_5_clusters': KMeans(n_clusters=5, random_state=42,n_init='auto'),\n",
    "    'MiniBatchKMeans_3_clusters': MiniBatchKMeans(n_clusters=3, random_state=42,n_init='auto', batch_size=100),\n",
    "    'MiniBatchKMeans_4_clusters': MiniBatchKMeans(n_clusters=4, random_state=42,n_init='auto', batch_size=100),\n",
    "    'MiniBatchKMeans_5_clusters': MiniBatchKMeans(n_clusters=5, random_state=42,n_init='auto', batch_size=100),\n",
    "}\n",
    "\n",
    "\n"
   ],
   "id": "fbac7703237ab4b4",
   "outputs": [],
   "execution_count": 65
  },
  {
   "metadata": {},
   "cell_type": "markdown",
   "source": "### Fit models on the blob dataset",
   "id": "d66d8b76adfbb2be"
  },
  {
   "metadata": {
    "ExecuteTime": {
     "end_time": "2024-07-11T17:24:31.648253Z",
     "start_time": "2024-07-11T17:24:31.583488Z"
    }
   },
   "cell_type": "code",
   "source": [
    "labels_blob = {}\n",
    "centers_blob = {}\n",
    "for name, model in models.items():\n",
    "    model.fit(X_blob)\n",
    "    labels_blob[name] = model.predict(X_blob)\n",
    "    centers_blob[name] = model.cluster_centers_"
   ],
   "id": "f8917e8b6d13e94d",
   "outputs": [],
   "execution_count": 66
  },
  {
   "metadata": {},
   "cell_type": "markdown",
   "source": "### Fit models on the points dataset\n",
   "id": "53b4fe2f3ea2d94f"
  },
  {
   "metadata": {
    "ExecuteTime": {
     "end_time": "2024-07-11T17:24:31.824721Z",
     "start_time": "2024-07-11T17:24:31.649264Z"
    }
   },
   "cell_type": "code",
   "source": [
    "labels_points = {}\n",
    "centers_points = {}\n",
    "for name, model in models.items():\n",
    "    model.fit(X_points)\n",
    "    labels_points[name] = model.predict(X_points)\n",
    "    centers_points[name] = model.cluster_centers_"
   ],
   "id": "e0817ce7b9ec878e",
   "outputs": [],
   "execution_count": 67
  },
  {
   "metadata": {},
   "cell_type": "markdown",
   "source": "### To evaluate the clustering models using quality metrics like Adjusted Rand Index, Calinski-Harabasz Index, and Davies-Bouldin Index. The following code includes these metrics for each model and dataset:",
   "id": "d9b8ced4c74d1b3a"
  },
  {
   "metadata": {
    "ExecuteTime": {
     "end_time": "2024-07-11T17:24:31.829483Z",
     "start_time": "2024-07-11T17:24:31.827380Z"
    }
   },
   "cell_type": "code",
   "source": "from sklearn.metrics import adjusted_rand_score, calinski_harabasz_score, davies_bouldin_score",
   "id": "430f50579b9a825",
   "outputs": [],
   "execution_count": 68
  },
  {
   "metadata": {},
   "cell_type": "markdown",
   "source": "### Step 1: Evaluate the models",
   "id": "a0ffed035c2e704e"
  },
  {
   "metadata": {
    "ExecuteTime": {
     "end_time": "2024-07-11T17:24:31.834915Z",
     "start_time": "2024-07-11T17:24:31.830650Z"
    }
   },
   "cell_type": "code",
   "source": [
    "\n",
    "def evaluate_clusters(X, labels, true_labels=None):\n",
    "    scores = {}\n",
    "    if true_labels is not None:\n",
    "        scores['Adjusted Rand Index'] = adjusted_rand_score(true_labels, labels)\n",
    "    scores['Calinski-Harabasz Index'] = calinski_harabasz_score(X, labels)\n",
    "    scores['Davies-Bouldin Index'] = davies_bouldin_score(X, labels)\n",
    "    return scores"
   ],
   "id": "988f5fc12921eb1d",
   "outputs": [],
   "execution_count": 69
  },
  {
   "metadata": {},
   "cell_type": "markdown",
   "source": "### Evaluate models on the blob dataset",
   "id": "92def6ab82111490"
  },
  {
   "metadata": {
    "ExecuteTime": {
     "end_time": "2024-07-11T17:24:31.849647Z",
     "start_time": "2024-07-11T17:24:31.835776Z"
    }
   },
   "cell_type": "code",
   "source": [
    "\n",
    "print(\"Blob Dataset Evaluation:\")\n",
    "for name, labels in labels_blob.items():\n",
    "    scores = evaluate_clusters(X_blob, labels, y_blob)\n",
    "    print(f\"{name}: {scores}\")"
   ],
   "id": "ea00d0e52dc915dd",
   "outputs": [
    {
     "name": "stdout",
     "output_type": "stream",
     "text": [
      "Blob Dataset Evaluation:\n",
      "KMeans_3_clusters: {'Adjusted Rand Index': 0.02305205607874582, 'Calinski-Harabasz Index': 665.3162286236743, 'Davies-Bouldin Index': 0.964932679999536}\n",
      "KMeans_4_clusters: {'Adjusted Rand Index': 0.003072481868613137, 'Calinski-Harabasz Index': 687.2696369798575, 'Davies-Bouldin Index': 0.9291562581565466}\n",
      "KMeans_5_clusters: {'Adjusted Rand Index': 0.015456803812327361, 'Calinski-Harabasz Index': 669.4779116506213, 'Davies-Bouldin Index': 0.9039265960732601}\n",
      "MiniBatchKMeans_3_clusters: {'Adjusted Rand Index': 0.033945225501128926, 'Calinski-Harabasz Index': 656.6051685971224, 'Davies-Bouldin Index': 0.9530500320732589}\n",
      "MiniBatchKMeans_4_clusters: {'Adjusted Rand Index': 0.009373541444086213, 'Calinski-Harabasz Index': 680.4089703562004, 'Davies-Bouldin Index': 0.9200916465369746}\n",
      "MiniBatchKMeans_5_clusters: {'Adjusted Rand Index': 0.018140739563712465, 'Calinski-Harabasz Index': 657.0336739996833, 'Davies-Bouldin Index': 0.9303666193689694}\n"
     ]
    }
   ],
   "execution_count": 70
  },
  {
   "metadata": {},
   "cell_type": "markdown",
   "source": "### We will look for models with: Higher Adjusted Rand Index (ARI) , Higher Calinski-Harabasz Index (CHI), Lower Davies-Bouldin Index (DBI)",
   "id": "9c976d511adef34c"
  },
  {
   "metadata": {},
   "cell_type": "markdown",
   "source": [
    "### Analysis: \n",
    "#### Adjusted Rand Index (ARI): \n",
    "#### Highest ARI: MiniBatchKMeans_3_clusters (0.0339)\n",
    "\n",
    "#### Calinski-Harabasz Index (CHI):\n",
    "#### Highest CHI: KMeans_4_clusters (687.27)\n",
    "\n",
    "#### Davies-Bouldin Index (DBI):\n",
    "#### Lowest DBI: KMeans_5_clusters (0.9039)"
   ],
   "id": "dd59aa99de2a4fdd"
  },
  {
   "metadata": {},
   "cell_type": "markdown",
   "source": "### Based on these metrics, KMeans with 4 clusters appears to be a reasonable choice for this dataset, as it achieves a good balance between cluster separation and similarity.",
   "id": "4b45e014fa5b046e"
  },
  {
   "metadata": {},
   "cell_type": "markdown",
   "source": "### Evaluate models on the points dataset",
   "id": "a0fbf616628ee08f"
  },
  {
   "metadata": {
    "ExecuteTime": {
     "end_time": "2024-07-11T17:24:31.992967Z",
     "start_time": "2024-07-11T17:24:31.850402Z"
    }
   },
   "cell_type": "code",
   "source": [
    "\n",
    "print(\"\\nPoints Dataset Evaluation:\")\n",
    "for name, labels in labels_points.items():\n",
    "    scores = evaluate_clusters(X_points, labels)\n",
    "    print(f\"{name}: {scores}\")"
   ],
   "id": "f5d67a481ee0dd51",
   "outputs": [
    {
     "name": "stdout",
     "output_type": "stream",
     "text": [
      "\n",
      "Points Dataset Evaluation:\n",
      "KMeans_3_clusters: {'Calinski-Harabasz Index': 279877.00629097293, 'Davies-Bouldin Index': 0.7209220394693859}\n",
      "KMeans_4_clusters: {'Calinski-Harabasz Index': 351468.23896293604, 'Davies-Bouldin Index': 0.5366004839496465}\n",
      "KMeans_5_clusters: {'Calinski-Harabasz Index': 375168.4520598905, 'Davies-Bouldin Index': 0.6435355835548625}\n",
      "MiniBatchKMeans_3_clusters: {'Calinski-Harabasz Index': 252601.97984683796, 'Davies-Bouldin Index': 0.746665000249288}\n",
      "MiniBatchKMeans_4_clusters: {'Calinski-Harabasz Index': 350114.5690228873, 'Davies-Bouldin Index': 0.5280279036533555}\n",
      "MiniBatchKMeans_5_clusters: {'Calinski-Harabasz Index': 459362.7263493073, 'Davies-Bouldin Index': 0.4861995167455294}\n"
     ]
    }
   ],
   "execution_count": 71
  },
  {
   "metadata": {},
   "cell_type": "markdown",
   "source": "### MiniBatchKMeans with 5 clusters appears to be the best-performing model based on these metrics. It has the highest Calinski-Harabasz Index and the lowest Davies-Bouldin Index among all configurations listed.",
   "id": "73fb84997ac35fb1"
  }
 ],
 "metadata": {
  "kernelspec": {
   "display_name": "Python 3 (ipykernel)",
   "language": "python",
   "name": "python3"
  },
  "language_info": {
   "codemirror_mode": {
    "name": "ipython",
    "version": 3
   },
   "file_extension": ".py",
   "mimetype": "text/x-python",
   "name": "python",
   "nbconvert_exporter": "python",
   "pygments_lexer": "ipython3",
   "version": "3.9.6"
  }
 },
 "nbformat": 4,
 "nbformat_minor": 5
}
