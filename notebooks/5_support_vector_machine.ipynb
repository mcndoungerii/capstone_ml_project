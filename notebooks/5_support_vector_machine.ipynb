{
 "cells": [
  {
   "metadata": {},
   "cell_type": "markdown",
   "source": "<h1> 4. Support Vector Machine Model (Train + Performance Evaluation) </h1>",
   "id": "2da4626cbbccb946"
  },
  {
   "metadata": {
    "ExecuteTime": {
     "end_time": "2024-07-11T17:22:17.436521Z",
     "start_time": "2024-07-11T17:22:17.397855Z"
    }
   },
   "cell_type": "code",
   "source": [
    "import sys\n",
    "from sklearn.model_selection import train_test_split\n",
    "import matplotlib.pyplot as plt\n",
    "from sklearn.svm import SVC\n",
    "from sklearn.ensemble import RandomForestClassifier\n",
    "from sklearn.metrics import accuracy_score\n",
    "import numpy as np\n",
    "from pathlib import Path\n",
    "from data.input_data import DatasetCreator"
   ],
   "id": "cff3b5ce1f80fad",
   "outputs": [],
   "execution_count": 22
  },
  {
   "metadata": {},
   "cell_type": "markdown",
   "source": "### Get the absolute path of the current file",
   "id": "dbf580751709a7a3"
  },
  {
   "metadata": {
    "ExecuteTime": {
     "end_time": "2024-07-11T17:22:17.451425Z",
     "start_time": "2024-07-11T17:22:17.440804Z"
    }
   },
   "cell_type": "code",
   "source": [
    "# Get the absolute path of the current file\n",
    "current_file_path = Path('ensemble_model_random_forest.ipynb').resolve()\n",
    "\n",
    "# Get the directory of the current file\n",
    "project_dir = current_file_path.parent\n",
    "\n",
    "# Add the project directory to sys.path\n",
    "sys.path.insert(0, str(project_dir))"
   ],
   "id": "c40ed415fce0a496",
   "outputs": [],
   "execution_count": 23
  },
  {
   "metadata": {},
   "cell_type": "markdown",
   "source": "### Step 1: Create Datasets\n",
   "id": "b8493ac53791a83a"
  },
  {
   "metadata": {
    "ExecuteTime": {
     "end_time": "2024-07-11T17:22:17.468370Z",
     "start_time": "2024-07-11T17:22:17.452881Z"
    }
   },
   "cell_type": "code",
   "source": [
    "dataset_creator = DatasetCreator()\n",
    "blob_dataset = dataset_creator.create_blob_dataset()\n",
    "circles_dataset = dataset_creator.create_make_circles_dataset()"
   ],
   "id": "86e45aaffa56f36a",
   "outputs": [],
   "execution_count": 24
  },
  {
   "metadata": {},
   "cell_type": "markdown",
   "source": "### Step 2: Preprocesing - Split Data into Training, Validation, and Test Sets",
   "id": "d43ec0f1749bf7ef"
  },
  {
   "metadata": {
    "ExecuteTime": {
     "end_time": "2024-07-11T17:22:17.473023Z",
     "start_time": "2024-07-11T17:22:17.469595Z"
    }
   },
   "cell_type": "code",
   "source": [
    "X_blob, y_blob = blob_dataset['X'], blob_dataset['y']\n",
    "X_circles, y_circles = circles_dataset['X'], circles_dataset['y']"
   ],
   "id": "7d35ba35153b6a80",
   "outputs": [],
   "execution_count": 25
  },
  {
   "metadata": {},
   "cell_type": "markdown",
   "source": "### Split blob dataset into training and temporary (remaining) data",
   "id": "34bfd4e1525126d"
  },
  {
   "metadata": {
    "ExecuteTime": {
     "end_time": "2024-07-11T17:22:17.480474Z",
     "start_time": "2024-07-11T17:22:17.475478Z"
    }
   },
   "cell_type": "code",
   "source": [
    "\n",
    "X_blob_train_temp, X_blob_test, y_blob_train_temp, y_blob_test = train_test_split(X_blob, y_blob, test_size=0.2,\n",
    "                                                                                  random_state=42)\n",
    "X_blob_train, X_blob_val, y_blob_train, y_blob_val = train_test_split(X_blob_train_temp, y_blob_train_temp,test_size=0.25, random_state=42)\n",
    "\n",
    "print(f\"Blob Dataset:\")\n",
    "print(f\"Train set: {X_blob_train.shape}, Validation set: {X_blob_val.shape}, Test set: {X_blob_test.shape}\")"
   ],
   "id": "585763bd7a777d84",
   "outputs": [
    {
     "name": "stdout",
     "output_type": "stream",
     "text": [
      "Blob Dataset:\n",
      "Train set: (660, 2), Validation set: (220, 2), Test set: (220, 2)\n"
     ]
    }
   ],
   "execution_count": 26
  },
  {
   "metadata": {},
   "cell_type": "markdown",
   "source": "### Split circles dataset into training and temporary (remaining) data",
   "id": "33fa1170877f78f4"
  },
  {
   "metadata": {
    "ExecuteTime": {
     "end_time": "2024-07-11T17:22:17.485986Z",
     "start_time": "2024-07-11T17:22:17.481494Z"
    }
   },
   "cell_type": "code",
   "source": [
    "X_circles_train_temp, X_circles_test, y_circles_train_temp, y_circles_test = train_test_split(X_circles, y_circles,test_size=0.2,random_state=42)\n",
    "X_circles_train, X_circles_val, y_circles_train, y_circles_val = train_test_split(X_circles_train_temp, y_circles_train_temp, test_size=0.25,random_state=42)\n",
    "\n",
    "print(f\"\\nCircles Dataset:\")\n",
    "print(f\"Train set: {X_circles_train.shape}, Validation set: {X_circles_val.shape}, Test set: {X_circles_test.shape}\")"
   ],
   "id": "2a741f41498c0707",
   "outputs": [
    {
     "name": "stdout",
     "output_type": "stream",
     "text": [
      "\n",
      "Circles Dataset:\n",
      "Train set: (300, 2), Validation set: (100, 2), Test set: (100, 2)\n"
     ]
    }
   ],
   "execution_count": 27
  },
  {
   "metadata": {},
   "cell_type": "markdown",
   "source": "### Train basic model SVM on blob dataset",
   "id": "6bdb62307458950f"
  },
  {
   "metadata": {
    "ExecuteTime": {
     "end_time": "2024-07-11T17:22:17.503394Z",
     "start_time": "2024-07-11T17:22:17.486752Z"
    }
   },
   "cell_type": "code",
   "source": [
    "svm_model_blob = SVC(kernel='linear', C=1.0)\n",
    "svm_model_blob = svm_model_blob.fit(X_blob_train, y_blob_train)"
   ],
   "id": "93fde6e7628cb6d8",
   "outputs": [],
   "execution_count": 28
  },
  {
   "metadata": {},
   "cell_type": "markdown",
   "source": "### Evaluate model performance on Blob Test set",
   "id": "547358e5ff79dd68"
  },
  {
   "metadata": {
    "ExecuteTime": {
     "end_time": "2024-07-11T17:22:17.508731Z",
     "start_time": "2024-07-11T17:22:17.504295Z"
    }
   },
   "cell_type": "code",
   "source": [
    "svm_blob_accuracy = accuracy_score(y_blob_test, svm_model_blob.predict(X_blob_test))\n",
    "print(f\"SVM Blob Accuracy on Blob Dataset: {svm_blob_accuracy:.4f}\")"
   ],
   "id": "ef106c7b139f5e0f",
   "outputs": [
    {
     "name": "stdout",
     "output_type": "stream",
     "text": [
      "SVM Blob Accuracy on Blob Dataset: 0.9545\n"
     ]
    }
   ],
   "execution_count": 29
  },
  {
   "metadata": {},
   "cell_type": "markdown",
   "source": "### Train basic model SVM on circle dataset",
   "id": "4ae7d180dea6d406"
  },
  {
   "metadata": {
    "ExecuteTime": {
     "end_time": "2024-07-11T17:22:17.519422Z",
     "start_time": "2024-07-11T17:22:17.509583Z"
    }
   },
   "cell_type": "code",
   "source": [
    "svm_model_circle = SVC(kernel='linear', C=1.0)\n",
    "svm_model_circle = svm_model_circle.fit(X_circles_train, y_circles_train)"
   ],
   "id": "1516cb7d6294e45",
   "outputs": [],
   "execution_count": 30
  },
  {
   "metadata": {},
   "cell_type": "markdown",
   "source": "### Evaluate model performance on Circle Test set",
   "id": "6f8eb14ca24d57d6"
  },
  {
   "metadata": {
    "ExecuteTime": {
     "end_time": "2024-07-11T17:22:17.523533Z",
     "start_time": "2024-07-11T17:22:17.520388Z"
    }
   },
   "cell_type": "code",
   "source": [
    "svm_circle_accuracy = accuracy_score(y_circles_test, svm_model_circle.predict(X_circles_test))\n",
    "print(f\"SVM Cicles Dataset Accuracy: {svm_circle_accuracy}\")"
   ],
   "id": "acc89ec435247ea0",
   "outputs": [
    {
     "name": "stdout",
     "output_type": "stream",
     "text": [
      "SVM Cicles Dataset Accuracy: 0.49\n"
     ]
    }
   ],
   "execution_count": 31
  },
  {
   "metadata": {},
   "cell_type": "markdown",
   "source": "### In Conclusion, The SVM performs exceptionally well with the accuracy score of 0.9545 on the Blob dataset. A score close to 1.0 suggests that the SVM can effectively separate the classes in the Blob dataset with high accuracy. In contrast to that, The SVM performs poorly (accuracy of 0.44), suggesting that the data points in the Circles dataset are not effectively separated by the linear SVM kernel.  ",
   "id": "f3de229bd86784d"
  },
  {
   "metadata": {
    "ExecuteTime": {
     "end_time": "2024-07-11T17:22:17.525970Z",
     "start_time": "2024-07-11T17:22:17.524251Z"
    }
   },
   "cell_type": "code",
   "source": "",
   "id": "2a2071090b48ba74",
   "outputs": [],
   "execution_count": 31
  }
 ],
 "metadata": {
  "kernelspec": {
   "display_name": "Python 3",
   "language": "python",
   "name": "python3"
  },
  "language_info": {
   "codemirror_mode": {
    "name": "ipython",
    "version": 2
   },
   "file_extension": ".py",
   "mimetype": "text/x-python",
   "name": "python",
   "nbconvert_exporter": "python",
   "pygments_lexer": "ipython2",
   "version": "2.7.6"
  }
 },
 "nbformat": 4,
 "nbformat_minor": 5
}
