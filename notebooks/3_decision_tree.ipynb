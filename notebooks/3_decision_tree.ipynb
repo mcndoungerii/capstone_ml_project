{
 "cells": [
  {
   "metadata": {},
   "cell_type": "markdown",
   "source": "<h1> 2. Classification Model - Decision Tree </h1>",
   "id": "d0bb2b88552a1ab6"
  },
  {
   "metadata": {
    "ExecuteTime": {
     "end_time": "2024-07-11T17:24:17.098342Z",
     "start_time": "2024-07-11T17:24:17.093130Z"
    }
   },
   "cell_type": "code",
   "source": [
    "import sys\n",
    "from sklearn.model_selection import train_test_split, cross_val_score\n",
    "from sklearn.tree import DecisionTreeClassifier\n",
    "from sklearn.metrics import accuracy_score\n",
    "from pathlib import Path"
   ],
   "id": "initial_id",
   "outputs": [],
   "execution_count": 61
  },
  {
   "metadata": {},
   "cell_type": "markdown",
   "source": "### Get the absolute path of the current file",
   "id": "4939b0dede38f88b"
  },
  {
   "metadata": {
    "ExecuteTime": {
     "end_time": "2024-07-11T17:24:17.111993Z",
     "start_time": "2024-07-11T17:24:17.109140Z"
    }
   },
   "cell_type": "code",
   "source": [
    "current_file_path = Path('decision_tree.ipynb').resolve()\n",
    "\n",
    "# Get the directory of the current file\n",
    "project_dir = current_file_path.parent\n",
    "\n",
    "# Add the project directory to sys.path\n",
    "sys.path.insert(0, str(project_dir))"
   ],
   "id": "d6c7ab8a6fed9f94",
   "outputs": [],
   "execution_count": 62
  },
  {
   "metadata": {},
   "cell_type": "markdown",
   "source": "### Step 1: Import Utility methods",
   "id": "1901c35236f7627e"
  },
  {
   "metadata": {
    "ExecuteTime": {
     "end_time": "2024-07-11T17:24:17.121170Z",
     "start_time": "2024-07-11T17:24:17.119127Z"
    }
   },
   "cell_type": "code",
   "source": "from utility import (load_random_generator)",
   "id": "8ccc726e123793c2",
   "outputs": [],
   "execution_count": 63
  },
  {
   "metadata": {},
   "cell_type": "markdown",
   "source": "### Step 2: Preprocesing: Split features or data and target variable X, y respectively",
   "id": "8a29b5e256d501f2"
  },
  {
   "cell_type": "code",
   "id": "b69bf30d2cd1851d",
   "metadata": {
    "ExecuteTime": {
     "end_time": "2024-07-11T17:24:17.126873Z",
     "start_time": "2024-07-11T17:24:17.122786Z"
    }
   },
   "source": [
    "data = load_random_generator()\n",
    "\n",
    "X, y = data[\"X\"], data[\"Y\"]"
   ],
   "outputs": [],
   "execution_count": 64
  },
  {
   "metadata": {},
   "cell_type": "markdown",
   "source": "### Step 3: Split the data into training and testing sets",
   "id": "95dc77745154deb"
  },
  {
   "cell_type": "code",
   "id": "c2bd1773f52bf6f8",
   "metadata": {
    "ExecuteTime": {
     "end_time": "2024-07-11T17:24:17.133151Z",
     "start_time": "2024-07-11T17:24:17.127748Z"
    }
   },
   "source": [
    "\n",
    "X_train, X_test, y_train, y_test = train_test_split(X,y, test_size=0.2, random_state=42)\n"
   ],
   "outputs": [],
   "execution_count": 65
  },
  {
   "metadata": {},
   "cell_type": "markdown",
   "source": "### Step 4: Declare different hyperparameters",
   "id": "483a53aede111ca3"
  },
  {
   "metadata": {
    "ExecuteTime": {
     "end_time": "2024-07-11T17:24:17.136726Z",
     "start_time": "2024-07-11T17:24:17.134475Z"
    }
   },
   "cell_type": "code",
   "source": [
    "max_depths: list = [None, 5, 10]\n",
    "min_samples_splits: list = [2, 5, 10]\n",
    "min_samples_leafs: list = [1, 2, 5]\n",
    "max_leaf_nodes_list: list = [None, 10, 20]\n",
    "max_features_list: list = [None, 'sqrt', 'log2']"
   ],
   "id": "d386f111ec9674f1",
   "outputs": [],
   "execution_count": 66
  },
  {
   "metadata": {},
   "cell_type": "markdown",
   "source": "### Step 5: Define a function to train and evaluate decision tree classifiers with different hyperparameters",
   "id": "52487b286c2ca01e"
  },
  {
   "metadata": {
    "ExecuteTime": {
     "end_time": "2024-07-11T17:24:17.140030Z",
     "start_time": "2024-07-11T17:24:17.137453Z"
    }
   },
   "cell_type": "code",
   "source": [
    "def evaluate_decision_tree(max_depth=None, min_samples_split=None, min_samples_leaf=None, max_leaf_nodes=None, max_features=None, X_train= None, y_train=None):\n",
    "    # Initialize the decision tree classifier with specified hyperparameters\n",
    "    clf = DecisionTreeClassifier(max_depth=max_depth, min_samples_split=min_samples_split,\n",
    "                                 min_samples_leaf=min_samples_leaf, max_leaf_nodes=max_leaf_nodes,\n",
    "                                 max_features=max_features )\n",
    "    # Train the classifier\n",
    "    clf.fit(X_train, y_train)\n",
    "    # Perform cross-validation to evaluate the model\n",
    "    cv_scores = cross_val_score(clf, X_train, y_train, cv=5)\n",
    "    # Calculate the mean cross-validation accuracy\n",
    "    mean_cv_accuracy = cv_scores.mean()\n",
    "    return mean_cv_accuracy"
   ],
   "id": "c43a06b7428b4bd0",
   "outputs": [],
   "execution_count": 67
  },
  {
   "metadata": {},
   "cell_type": "markdown",
   "source": "### Step 6: Train decision tree classifiers with different hyperparameters",
   "id": "905b12d72b155dc0"
  },
  {
   "metadata": {
    "ExecuteTime": {
     "end_time": "2024-07-11T17:24:18.007247Z",
     "start_time": "2024-07-11T17:24:17.140982Z"
    }
   },
   "cell_type": "code",
   "source": [
    "\n",
    "best_accuracy = -1\n",
    "best_hyperparameters = {}\n",
    "\n",
    "for max_depth in max_depths:\n",
    "    for min_samples_split in min_samples_splits:\n",
    "        for min_samples_leaf in min_samples_leafs:\n",
    "            for max_leaf_nodes in max_leaf_nodes_list:\n",
    "                for max_features in max_features_list:\n",
    "                    # Train with different hyper parameters\n",
    "                    accuracy = evaluate_decision_tree(max_depth, min_samples_split, min_samples_leaf,\n",
    "                                                      max_leaf_nodes, max_features,X_train, y_train)\n",
    "\n",
    "                    if accuracy > best_accuracy:\n",
    "                        best_accuracy = accuracy\n",
    "                        best_hyperparameters = {\n",
    "                            'max_depth': max_depth,\n",
    "                            'min_samples_split': min_samples_split,\n",
    "                            'min_samples_leaf': min_samples_leaf,\n",
    "                            'max_leaf_nodes': max_leaf_nodes,\n",
    "                            'max_features': max_features\n",
    "                        }\n",
    "print(best_hyperparameters)"
   ],
   "id": "1142f90a42ba7bef",
   "outputs": [
    {
     "name": "stdout",
     "output_type": "stream",
     "text": [
      "{'max_depth': None, 'min_samples_split': 2, 'min_samples_leaf': 1, 'max_leaf_nodes': None, 'max_features': None}\n"
     ]
    }
   ],
   "execution_count": 68
  },
  {
   "metadata": {},
   "cell_type": "markdown",
   "source": "### Step 7: Train the best model on the full training set\n",
   "id": "f367e22b81e7a980"
  },
  {
   "metadata": {
    "ExecuteTime": {
     "end_time": "2024-07-11T17:24:18.012976Z",
     "start_time": "2024-07-11T17:24:18.008872Z"
    }
   },
   "cell_type": "code",
   "source": [
    "best_clf = DecisionTreeClassifier(**best_hyperparameters)\n",
    "best_clf = best_clf.fit(X_train, y_train)"
   ],
   "id": "37dec7afdb89fcc",
   "outputs": [],
   "execution_count": 69
  },
  {
   "metadata": {},
   "cell_type": "markdown",
   "source": "### Step 8: Make Predictions with test set",
   "id": "5f7db1576e80bd97"
  },
  {
   "metadata": {
    "ExecuteTime": {
     "end_time": "2024-07-11T17:24:18.017301Z",
     "start_time": "2024-07-11T17:24:18.013781Z"
    }
   },
   "cell_type": "code",
   "source": [
    "y_pred = best_clf.predict(X_test)\n",
    "test_accuracy = accuracy_score(y_test, y_pred)\n",
    "print(\"Best Model Hyperparameters:\", best_hyperparameters)\n",
    "print(\"Test Accuracy:\", test_accuracy)\n",
    "print(\"Train Accuracy:\", best_accuracy)\n",
    "print(f\"Test Predictions: {y_pred}\")"
   ],
   "id": "83db48cc69b2550b",
   "outputs": [
    {
     "name": "stdout",
     "output_type": "stream",
     "text": [
      "Best Model Hyperparameters: {'max_depth': None, 'min_samples_split': 2, 'min_samples_leaf': 1, 'max_leaf_nodes': None, 'max_features': None}\n",
      "Test Accuracy: 0.95\n",
      "Train Accuracy: 1.0\n",
      "Test Predictions: [False False  True  True False False False  True False False False  True\n",
      "  True  True  True  True  True  True False  True  True False False  True\n",
      "  True False  True False  True  True  True  True  True False False False\n",
      " False False False  True  True False False  True False  True  True  True\n",
      "  True  True  True False False  True False  True  True  True False  True]\n"
     ]
    }
   ],
   "execution_count": 70
  },
  {
   "metadata": {},
   "cell_type": "markdown",
   "source": "",
   "id": "8f4f34ad8ad16b2d"
  },
  {
   "metadata": {},
   "cell_type": "markdown",
   "source": "### Step 9: Evaluate the best model on the testing set",
   "id": "703820e4540bbf88"
  },
  {
   "metadata": {
    "ExecuteTime": {
     "end_time": "2024-07-11T17:24:18.020237Z",
     "start_time": "2024-07-11T17:24:18.018408Z"
    }
   },
   "cell_type": "code",
   "source": "from sklearn.metrics import confusion_matrix, precision_score, recall_score, f1_score, precision_recall_curve, roc_curve, roc_auc_score\n",
   "id": "a48bc3141f4b838d",
   "outputs": [],
   "execution_count": 71
  },
  {
   "metadata": {
    "ExecuteTime": {
     "end_time": "2024-07-11T17:24:18.028382Z",
     "start_time": "2024-07-11T17:24:18.020893Z"
    }
   },
   "cell_type": "code",
   "source": [
    "# Confusion Matrix\n",
    "conf_matrix_test = confusion_matrix(y_test, y_pred)\n",
    "# Precision\n",
    "precision_test = precision_score(y_test, y_pred)\n",
    "# Recall\n",
    "recall_test = recall_score(y_test, y_pred)\n",
    "# F1 Score\n",
    "f1_test = f1_score(y_test, y_pred)\n",
    "# Precision-Recall Curve\n",
    "precision_test_curve, recall_test_curve, _ = precision_recall_curve(y_test, y_pred)\n",
    "# ROC Curve and AUC\n",
    "fpr_test, tpr_test, _ = roc_curve(y_test, y_pred)\n",
    "auc_test = roc_auc_score(y_test, y_pred)\n",
    "# Display metrics\n",
    "print(\"Confusion Matrix - Test:\\n\", conf_matrix_test)\n",
    "print(\"Precision - Test:\", precision_test)\n",
    "print(\"Recall - Test:\", recall_test)\n",
    "print(\"F1 Score - Test:\", f1_test)\n",
    "print(\"AUC - Test:\", auc_test)\n"
   ],
   "id": "4d576e121d662ee1",
   "outputs": [
    {
     "name": "stdout",
     "output_type": "stream",
     "text": [
      "Confusion Matrix - Test:\n",
      " [[25  2]\n",
      " [ 1 32]]\n",
      "Precision - Test: 0.9411764705882353\n",
      "Recall - Test: 0.9696969696969697\n",
      "F1 Score - Test: 0.955223880597015\n",
      "AUC - Test: 0.9478114478114478\n"
     ]
    }
   ],
   "execution_count": 72
  },
  {
   "metadata": {},
   "cell_type": "markdown",
   "source": "### Overall, based on these metrics, the decision classifier model shows strong performance on the test set, with high precision, recall, F1 score, and AUC. These metrics collectively indicate that the model is effective in its classification task",
   "id": "fd7d8ce4fd61dca"
  }
 ],
 "metadata": {
  "kernelspec": {
   "display_name": "Python 3 (ipykernel)",
   "language": "python",
   "name": "python3"
  },
  "language_info": {
   "codemirror_mode": {
    "name": "ipython",
    "version": 3
   },
   "file_extension": ".py",
   "mimetype": "text/x-python",
   "name": "python",
   "nbconvert_exporter": "python",
   "pygments_lexer": "ipython3",
   "version": "3.9.6"
  }
 },
 "nbformat": 4,
 "nbformat_minor": 5
}
