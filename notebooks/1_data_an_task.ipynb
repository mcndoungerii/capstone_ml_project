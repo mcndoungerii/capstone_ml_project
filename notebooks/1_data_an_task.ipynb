{
 "cells": [
  {
   "metadata": {},
   "cell_type": "markdown",
   "source": "# 1. Choose a dataset",
   "id": "8c8e54654c8094a4"
  },
  {
   "metadata": {},
   "cell_type": "markdown",
   "source": "## A data analytics task that is suitable for a supervised learning task such as linear or regression using the Boston Dataset above is as follows",
   "id": "23696b6e8f095717"
  },
  {
   "metadata": {
    "ExecuteTime": {
     "end_time": "2024-07-11T12:54:37.064270Z",
     "start_time": "2024-07-11T12:54:36.318990Z"
    }
   },
   "cell_type": "code",
   "source": "import pandas as pd",
   "id": "3eb0a67f",
   "outputs": [],
   "execution_count": 1
  },
  {
   "metadata": {
    "ExecuteTime": {
     "end_time": "2024-07-11T12:54:37.068498Z",
     "start_time": "2024-07-11T12:54:37.065697Z"
    }
   },
   "cell_type": "code",
   "source": [
    "def load_boston():\n",
    "    data_url = \"http://lib.stat.cmu.edu/datasets/boston\"\n",
    "    raw_df = pd.read_csv(data_url, sep=\"\\s+\", skiprows=22, header=None)\n",
    "    data = np.hstack([raw_df.values[::2, :], raw_df.values[1::2, :2]])\n",
    "    target = raw_df.values[1::2, 2]\n",
    "\n",
    "    return dict(data=data, target=target)"
   ],
   "id": "479d909cab4e4878",
   "outputs": [],
   "execution_count": 2
  },
  {
   "metadata": {},
   "cell_type": "markdown",
   "source": "### Import the necessary packages or modules",
   "id": "8aab292bea31b7e7"
  },
  {
   "metadata": {
    "ExecuteTime": {
     "end_time": "2024-07-11T12:54:37.785480Z",
     "start_time": "2024-07-11T12:54:37.069452Z"
    }
   },
   "cell_type": "code",
   "source": [
    "from sklearn.model_selection import train_test_split\n",
    "from sklearn.linear_model import LinearRegression\n",
    "import numpy as np\n",
    "from sklearn.metrics import mean_squared_error, r2_score"
   ],
   "id": "3801f7f4b15d8c1a",
   "outputs": [],
   "execution_count": 3
  },
  {
   "metadata": {},
   "cell_type": "markdown",
   "source": "### Split the data and target whereas X is Features (data) variable and Y is Target variable\n",
   "id": "c72d809927beb396"
  },
  {
   "metadata": {
    "ExecuteTime": {
     "end_time": "2024-07-11T12:54:45.205370Z",
     "start_time": "2024-07-11T12:54:37.786397Z"
    }
   },
   "cell_type": "code",
   "source": [
    "boston = load_boston()\n",
    "\n",
    "X, y = boston[\"data\"], boston[\"target\"]"
   ],
   "id": "3db34462b199b0d",
   "outputs": [],
   "execution_count": 4
  },
  {
   "metadata": {},
   "cell_type": "markdown",
   "source": "### Split the data into training and testing sets",
   "id": "a096b05e76621f75"
  },
  {
   "metadata": {
    "ExecuteTime": {
     "end_time": "2024-07-11T12:54:45.217380Z",
     "start_time": "2024-07-11T12:54:45.209605Z"
    }
   },
   "cell_type": "code",
   "source": [
    "\n",
    "X_train, X_test, y_train, y_test = train_test_split(X, y, test_size=0.2, random_state=42)"
   ],
   "id": "b47821c221b341c2",
   "outputs": [],
   "execution_count": 5
  },
  {
   "metadata": {},
   "cell_type": "markdown",
   "source": "### Create linear regression object",
   "id": "624b8f31fc05998b"
  },
  {
   "metadata": {
    "ExecuteTime": {
     "end_time": "2024-07-11T12:54:45.221021Z",
     "start_time": "2024-07-11T12:54:45.218595Z"
    }
   },
   "cell_type": "code",
   "source": "model = LinearRegression()",
   "id": "b2ee3b2b48f35d67",
   "outputs": [],
   "execution_count": 6
  },
  {
   "metadata": {},
   "cell_type": "markdown",
   "source": "### Train the model using the training sets",
   "id": "e33ac3ae150c716a"
  },
  {
   "metadata": {
    "ExecuteTime": {
     "end_time": "2024-07-11T12:54:45.234599Z",
     "start_time": "2024-07-11T12:54:45.222081Z"
    }
   },
   "cell_type": "code",
   "source": "model = model.fit(X_train, y_train)",
   "id": "28c49810206bfb97",
   "outputs": [],
   "execution_count": 7
  },
  {
   "metadata": {},
   "cell_type": "markdown",
   "source": "### Make predictions using the testing set",
   "id": "a067bc805d651062"
  },
  {
   "metadata": {
    "ExecuteTime": {
     "end_time": "2024-07-11T12:54:45.238060Z",
     "start_time": "2024-07-11T12:54:45.235614Z"
    }
   },
   "cell_type": "code",
   "source": "y_pred = model.predict(X_test)",
   "id": "a555a10917ebf9d8",
   "outputs": [],
   "execution_count": 8
  },
  {
   "metadata": {},
   "cell_type": "markdown",
   "source": "### The coefficients",
   "id": "38d69894134ec011"
  },
  {
   "metadata": {
    "ExecuteTime": {
     "end_time": "2024-07-11T12:54:45.242798Z",
     "start_time": "2024-07-11T12:54:45.238975Z"
    }
   },
   "cell_type": "code",
   "source": "print('Coefficients: \\n', model.coef_)",
   "id": "aca23186f3e51add",
   "outputs": [
    {
     "name": "stdout",
     "output_type": "stream",
     "text": [
      "Coefficients: \n",
      " [-1.13055924e-01  3.01104641e-02  4.03807204e-02  2.78443820e+00\n",
      " -1.72026334e+01  4.43883520e+00 -6.29636221e-03 -1.44786537e+00\n",
      "  2.62429736e-01 -1.06467863e-02 -9.15456240e-01  1.23513347e-02\n",
      " -5.08571424e-01]\n"
     ]
    }
   ],
   "execution_count": 9
  },
  {
   "metadata": {},
   "cell_type": "markdown",
   "source": "### The mean squared error",
   "id": "abc1357f147c9ca9"
  },
  {
   "metadata": {
    "ExecuteTime": {
     "end_time": "2024-07-11T12:54:45.246723Z",
     "start_time": "2024-07-11T12:54:45.243711Z"
    }
   },
   "cell_type": "code",
   "source": [
    "print('Mean squared error: %.2f'\n",
    "% mean_squared_error(y_test, y_pred))"
   ],
   "id": "75ee87c627a2c671",
   "outputs": [
    {
     "name": "stdout",
     "output_type": "stream",
     "text": [
      "Mean squared error: 24.29\n"
     ]
    }
   ],
   "execution_count": 10
  },
  {
   "metadata": {},
   "cell_type": "markdown",
   "source": "### The coefficient of determination: 1 is perfect prediction",
   "id": "3155b55fe61699b5"
  },
  {
   "metadata": {
    "ExecuteTime": {
     "end_time": "2024-07-11T12:54:45.251735Z",
     "start_time": "2024-07-11T12:54:45.247949Z"
    }
   },
   "cell_type": "code",
   "source": [
    "print('Coefficient of determination: %.2f'\n",
    "% r2_score(y_test, y_pred))"
   ],
   "id": "e04c4cee66d49c74",
   "outputs": [
    {
     "name": "stdout",
     "output_type": "stream",
     "text": [
      "Coefficient of determination: 0.67\n"
     ]
    }
   ],
   "execution_count": 11
  }
 ],
 "metadata": {
  "kernelspec": {
   "display_name": "Python 3 (ipykernel)",
   "language": "python",
   "name": "python3"
  },
  "language_info": {
   "codemirror_mode": {
    "name": "ipython",
    "version": 3
   },
   "file_extension": ".py",
   "mimetype": "text/x-python",
   "name": "python",
   "nbconvert_exporter": "python",
   "pygments_lexer": "ipython3",
   "version": "3.10.9"
  },
  "vscode": {
   "interpreter": {
    "hash": "31a01602cb699043571ad66435997b306f99e692eb8d7f6d39acbe90f8ea602a"
   }
  }
 },
 "nbformat": 4,
 "nbformat_minor": 5
}
