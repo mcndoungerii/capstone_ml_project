{
 "cells": [
  {
   "metadata": {},
   "cell_type": "markdown",
   "source": "<h1> Support Vector Machine Model (Train + Performance Evaluation) </h1>",
   "id": "2da4626cbbccb946"
  },
  {
   "metadata": {
    "ExecuteTime": {
     "end_time": "2024-07-10T01:10:31.991859Z",
     "start_time": "2024-07-10T01:10:31.981443Z"
    }
   },
   "cell_type": "code",
   "source": [
    "# Step 1: Create Datasets\n",
    "from sklearn.datasets import make_blobs, make_circles\n",
    "from sklearn.model_selection import train_test_split\n",
    "import matplotlib.pyplot as plt\n",
    "from sklearn.svm import SVC\n",
    "from sklearn.ensemble import RandomForestClassifier\n",
    "from sklearn.metrics import accuracy_score\n",
    "import numpy as np"
   ],
   "id": "cff3b5ce1f80fad",
   "outputs": [],
   "execution_count": 34
  },
  {
   "metadata": {
    "ExecuteTime": {
     "end_time": "2024-07-10T01:10:32.005777Z",
     "start_time": "2024-07-10T01:10:31.998654Z"
    }
   },
   "cell_type": "code",
   "source": [
    "class DatasetCreator:\n",
    "    @staticmethod\n",
    "    def create_blob_dataset() -> dict:\n",
    "        n_samples_1 = 1000\n",
    "        n_samples_2 = 100\n",
    "        centers = [[0.0, 0.0], [2.0, 2.0]]\n",
    "        cluster_std = [1.5, 0.5]\n",
    "\n",
    "        X, y = make_blobs(n_samples=[n_samples_1, n_samples_2],\n",
    "                          centers=centers,\n",
    "                          cluster_std=cluster_std,\n",
    "                          random_state=0,\n",
    "                          shuffle=False)\n",
    "\n",
    "        return {'X': X, 'y': y}\n",
    "\n",
    "    @staticmethod\n",
    "    def create_make_circles_dataset() -> dict:\n",
    "        X, y = make_circles(500, factor=0.1, noise=0.1)\n",
    "        return {'X': X, 'y': y}"
   ],
   "id": "97a773810dfec4ae",
   "outputs": [],
   "execution_count": 35
  },
  {
   "metadata": {
    "ExecuteTime": {
     "end_time": "2024-07-10T01:10:32.020914Z",
     "start_time": "2024-07-10T01:10:32.008466Z"
    }
   },
   "cell_type": "code",
   "source": [
    "dataset_creator = DatasetCreator()\n",
    "blob_dataset = dataset_creator.create_blob_dataset()\n",
    "circles_dataset = dataset_creator.create_make_circles_dataset()"
   ],
   "id": "b273e868a458a640",
   "outputs": [],
   "execution_count": 36
  },
  {
   "metadata": {
    "ExecuteTime": {
     "end_time": "2024-07-10T01:10:32.033765Z",
     "start_time": "2024-07-10T01:10:32.022094Z"
    }
   },
   "cell_type": "code",
   "source": [
    "# Step 2: Split Data into Training, Validation, and Test Sets\n",
    "X_blob, y_blob = blob_dataset['X'], blob_dataset['y']\n",
    "X_circles, y_circles = circles_dataset['X'], circles_dataset['y']\n",
    "\n",
    "# Split blob dataset into training and temporary (remaining) data\n",
    "X_blob_train_temp, X_blob_test, y_blob_train_temp, y_blob_test = train_test_split(X_blob, y_blob, test_size=0.2,\n",
    "                                                                                  random_state=42)\n",
    "X_blob_train, X_blob_val, y_blob_train, y_blob_val = train_test_split(X_blob_train_temp, y_blob_train_temp,test_size=0.25, random_state=42)\n",
    "\n",
    "print(f\"Blob Dataset:\")\n",
    "print(f\"Train set: {X_blob_train.shape}, Validation set: {X_blob_val.shape}, Test set: {X_blob_test.shape}\")\n",
    "\n",
    "# Split circles dataset into training and temporary (remaining) data\n",
    "X_circles_train_temp, X_circles_test, y_circles_train_temp, y_circles_test = train_test_split(X_circles, y_circles,test_size=0.2,random_state=42)\n",
    "X_circles_train, X_circles_val, y_circles_train, y_circles_val = train_test_split(X_circles_train_temp, y_circles_train_temp, test_size=0.25,random_state=42)\n",
    "\n",
    "print(f\"\\nCircles Dataset:\")\n",
    "print(f\"Train set: {X_circles_train.shape}, Validation set: {X_circles_val.shape}, Test set: {X_circles_test.shape}\")"
   ],
   "id": "585763bd7a777d84",
   "outputs": [
    {
     "name": "stdout",
     "output_type": "stream",
     "text": [
      "Blob Dataset:\n",
      "Train set: (660, 2), Validation set: (220, 2), Test set: (220, 2)\n",
      "\n",
      "Circles Dataset:\n",
      "Train set: (300, 2), Validation set: (100, 2), Test set: (100, 2)\n"
     ]
    }
   ],
   "execution_count": 37
  },
  {
   "metadata": {
    "ExecuteTime": {
     "end_time": "2024-07-10T01:10:32.046230Z",
     "start_time": "2024-07-10T01:10:32.035348Z"
    }
   },
   "cell_type": "code",
   "source": [
    "# Train basic model SVM on blob dataset\n",
    "svm_model_blob = SVC(kernel='linear', C=1.0)\n",
    "svm_model_blob.fit(X_blob_train, y_blob_train)\n",
    "svm_blob_accuracy = accuracy_score(y_blob_test, svm_model_blob.predict(X_blob_test))\n",
    "print(f\"SVM Blob Accuracy on Blob Dataset: {svm_blob_accuracy}\")"
   ],
   "id": "93fde6e7628cb6d8",
   "outputs": [
    {
     "name": "stdout",
     "output_type": "stream",
     "text": [
      "SVM Blob Accuracy on Blob Dataset: 0.9545454545454546\n"
     ]
    }
   ],
   "execution_count": 38
  },
  {
   "metadata": {
    "ExecuteTime": {
     "end_time": "2024-07-10T01:10:32.062506Z",
     "start_time": "2024-07-10T01:10:32.048344Z"
    }
   },
   "cell_type": "code",
   "source": [
    "# Train basic model SVM on blob dataset\n",
    "svm_model_circle = SVC(kernel='linear', C=1.0)\n",
    "svm_model_circle.fit(X_circles_train, y_circles_train)\n",
    "svm_circle_accuracy = accuracy_score(y_circles_test, svm_model_circle.predict(X_circles_test))\n",
    "print(f\"SVM Cicles Dataset Accuracy: {svm_circle_accuracy}\")"
   ],
   "id": "acc89ec435247ea0",
   "outputs": [
    {
     "name": "stdout",
     "output_type": "stream",
     "text": [
      "SVM Cicles Dataset Accuracy: 0.64\n"
     ]
    }
   ],
   "execution_count": 39
  }
 ],
 "metadata": {
  "kernelspec": {
   "display_name": "Python 3",
   "language": "python",
   "name": "python3"
  },
  "language_info": {
   "codemirror_mode": {
    "name": "ipython",
    "version": 2
   },
   "file_extension": ".py",
   "mimetype": "text/x-python",
   "name": "python",
   "nbconvert_exporter": "python",
   "pygments_lexer": "ipython2",
   "version": "2.7.6"
  }
 },
 "nbformat": 4,
 "nbformat_minor": 5
}
